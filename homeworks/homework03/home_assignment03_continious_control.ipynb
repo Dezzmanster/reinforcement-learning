{
 "cells": [
  {
   "cell_type": "markdown",
   "id": "JbH-lKi_DxGN",
   "metadata": {
    "id": "JbH-lKi_DxGN"
   },
   "source": [
    "# Home assignment 03\n",
    "### Description\n",
    "This assignment asks you to implement an approach (or use the implemented one;) ) capable of solving the *continious action space* environments. We've discussed several of them on the lectures.\n",
    "\n",
    "### Environment:\n",
    "The environment will be \"rather\" simple – it is [Half-Cheetah](https://www.gymlibrary.ml/environments/mujoco/half_cheetah/), which is open and available since Fall 2021.\n",
    "Please, read carefully the environment description before interacting with it!\n",
    "\n",
    "### More complex plan:\n",
    "If this environment seems too simple, you might switch to a bit more complex version: [`Ant-v2` by MuJoCo](https://www.gymlibrary.ml/environments/mujoco/ant/).\n",
    "\n",
    "### Pipeline:\n",
    "We suggest the following pipeline: First check the environment and try interacting with it with your own hands (just passing different actions and checking the results). Then use one of the appropriate approaches. And add some bells and whistles (Multiple-agent trick, Experience replay, ...) if needed.\n",
    "\n",
    "### Criteria:\n",
    "You can treat the environment solved if your score is $\\geq 1000$. Great results are somewhere around $1500$, but they are not necessary to achieve.\n",
    "\n",
    "Of course, you can continue training even further.\n",
    "It should take about 30 minutes on GPU to converge (if everything is fine, of course).\n",
    "\n",
    "\n",
    "### Extra problem (and potential project):\n",
    "For brave and true: after solving this assignment you can switch to the more challenging task: [Humanoid](https://www.gymlibrary.ml/environments/mujoco/humanoid/) locomotion. It can be used as a project problem as well.\n",
    "\n",
    "\n",
    "**Good luck!**"
   ]
  },
  {
   "cell_type": "markdown",
   "id": "tP6d4HOtGb5k",
   "metadata": {
    "id": "tP6d4HOtGb5k"
   },
   "source": [
    "Some technical imports come below. It might ask you to restart the environment (Colab) once, which is fine."
   ]
  },
  {
   "cell_type": "code",
   "execution_count": null,
   "id": "ed09c956",
   "metadata": {
    "colab": {
     "base_uri": "https://localhost:8080/",
     "height": 1000
    },
    "id": "ed09c956",
    "outputId": "e1ce104b-4813-42fd-a620-83d1d52a16b5"
   },
   "outputs": [],
   "source": [
    "!apt-get install -y libgl1-mesa-dev libgl1-mesa-glx libglew-dev libosmesa6-dev software-properties-common\n",
    "!apt-get install -y patchelf\n",
    "!pip install gym\n",
    "!pip install free-mujoco-py"
   ]
  },
  {
   "cell_type": "code",
   "execution_count": null,
   "id": "y4xv1fIbCqNn",
   "metadata": {
    "colab": {
     "base_uri": "https://localhost:8080/"
    },
    "id": "y4xv1fIbCqNn",
    "outputId": "7606ef52-92c2-48ac-ddd8-61ddf51fcf37"
   },
   "outputs": [],
   "source": [
    "import sys, os\n",
    "if 'google.colab' in sys.modules and not os.path.exists('.setup_complete'):\n",
    "    !wget -q https://raw.githubusercontent.com/yandexdataschool/Practical_RL/master/setup_colab.sh -O- | bash\n",
    "    !touch .setup_complete\n",
    "\n",
    "# This code creates a virtual display to draw game images on.\n",
    "# It will have no effect if your machine has a monitor.\n",
    "if type(os.environ.get(\"DISPLAY\")) is not str or len(os.environ.get(\"DISPLAY\")) == 0:\n",
    "    !bash ../xvfb start\n",
    "    os.environ['DISPLAY'] = ':1'"
   ]
  },
  {
   "cell_type": "code",
   "execution_count": null,
   "id": "75fcf322",
   "metadata": {
    "colab": {
     "base_uri": "https://localhost:8080/"
    },
    "id": "75fcf322",
    "outputId": "42f03088-afda-440d-eef6-8011a2f7589f"
   },
   "outputs": [],
   "source": [
    "from matplotlib import pyplot as plt\n",
    "import mujoco_py\n",
    "import gym\n",
    "import time\n",
    "import torch"
   ]
  },
  {
   "cell_type": "code",
   "execution_count": null,
   "id": "KgsLj7tSB-6A",
   "metadata": {
    "id": "KgsLj7tSB-6A"
   },
   "outputs": [],
   "source": [
    "env_name = 'HalfCheetah-v2'\n",
    "env = gym.make(env_name)\n",
    "state_dim = env.observation_space.shape[0]\n",
    "n_actions = env.action_space.shape[0]\n",
    "scale = float(env.action_space.high[0])"
   ]
  },
  {
   "cell_type": "code",
   "execution_count": null,
   "id": "EVuq3H2oCe3b",
   "metadata": {
    "colab": {
     "base_uri": "https://localhost:8080/",
     "height": 307
    },
    "id": "EVuq3H2oCe3b",
    "outputId": "8ec2de9f-5720-4786-9fd9-7acef0facb3a"
   },
   "outputs": [],
   "source": [
    "env.reset()\n",
    "plt.imshow(env.render(\"rgb_array\"))"
   ]
  },
  {
   "cell_type": "code",
   "execution_count": null,
   "id": "9GzBSn7nWXjV",
   "metadata": {
    "id": "9GzBSn7nWXjV"
   },
   "outputs": [],
   "source": [
    "device = torch.device('cuda:0') if torch.cuda.is_available() else torch.device('cpu')"
   ]
  },
  {
   "cell_type": "code",
   "execution_count": null,
   "id": "9WwafhS-DEzt",
   "metadata": {
    "id": "9WwafhS-DEzt"
   },
   "outputs": [],
   "source": [
    "# YOUR CODE HERE"
   ]
  },
  {
   "cell_type": "code",
   "execution_count": null,
   "id": "NIuNcuS4TiLw",
   "metadata": {
    "id": "NIuNcuS4TiLw"
   },
   "outputs": [],
   "source": []
  },
  {
   "cell_type": "markdown",
   "id": "PuYstFt0TRrn",
   "metadata": {
    "id": "PuYstFt0TRrn"
   },
   "source": [
    "To record video use the next cell. The code is similar to the one we've used before."
   ]
  },
  {
   "cell_type": "code",
   "execution_count": null,
   "id": "-FGMZsE8D-8b",
   "metadata": {
    "colab": {
     "base_uri": "https://localhost:8080/",
     "height": 521,
     "resources": {
      "http://localhost:8080/video/openaigym.video.1.435.video000008.mp4": {
       "data": "CjwhRE9DVFlQRSBodG1sPgo8aHRtbCBsYW5nPWVuPgogIDxtZXRhIGNoYXJzZXQ9dXRmLTg+CiAgPG1ldGEgbmFtZT12aWV3cG9ydCBjb250ZW50PSJpbml0aWFsLXNjYWxlPTEsIG1pbmltdW0tc2NhbGU9MSwgd2lkdGg9ZGV2aWNlLXdpZHRoIj4KICA8dGl0bGU+RXJyb3IgNDA0IChOb3QgRm91bmQpISExPC90aXRsZT4KICA8c3R5bGU+CiAgICAqe21hcmdpbjowO3BhZGRpbmc6MH1odG1sLGNvZGV7Zm9udDoxNXB4LzIycHggYXJpYWwsc2Fucy1zZXJpZn1odG1se2JhY2tncm91bmQ6I2ZmZjtjb2xvcjojMjIyO3BhZGRpbmc6MTVweH1ib2R5e21hcmdpbjo3JSBhdXRvIDA7bWF4LXdpZHRoOjM5MHB4O21pbi1oZWlnaHQ6MTgwcHg7cGFkZGluZzozMHB4IDAgMTVweH0qID4gYm9keXtiYWNrZ3JvdW5kOnVybCgvL3d3dy5nb29nbGUuY29tL2ltYWdlcy9lcnJvcnMvcm9ib3QucG5nKSAxMDAlIDVweCBuby1yZXBlYXQ7cGFkZGluZy1yaWdodDoyMDVweH1we21hcmdpbjoxMXB4IDAgMjJweDtvdmVyZmxvdzpoaWRkZW59aW5ze2NvbG9yOiM3Nzc7dGV4dC1kZWNvcmF0aW9uOm5vbmV9YSBpbWd7Ym9yZGVyOjB9QG1lZGlhIHNjcmVlbiBhbmQgKG1heC13aWR0aDo3NzJweCl7Ym9keXtiYWNrZ3JvdW5kOm5vbmU7bWFyZ2luLXRvcDowO21heC13aWR0aDpub25lO3BhZGRpbmctcmlnaHQ6MH19I2xvZ297YmFja2dyb3VuZDp1cmwoLy93d3cuZ29vZ2xlLmNvbS9pbWFnZXMvbG9nb3MvZXJyb3JwYWdlL2Vycm9yX2xvZ28tMTUweDU0LnBuZykgbm8tcmVwZWF0O21hcmdpbi1sZWZ0Oi01cHh9QG1lZGlhIG9ubHkgc2NyZWVuIGFuZCAobWluLXJlc29sdXRpb246MTkyZHBpKXsjbG9nb3tiYWNrZ3JvdW5kOnVybCgvL3d3dy5nb29nbGUuY29tL2ltYWdlcy9sb2dvcy9lcnJvcnBhZ2UvZXJyb3JfbG9nby0xNTB4NTQtMngucG5nKSBuby1yZXBlYXQgMCUgMCUvMTAwJSAxMDAlOy1tb3otYm9yZGVyLWltYWdlOnVybCgvL3d3dy5nb29nbGUuY29tL2ltYWdlcy9sb2dvcy9lcnJvcnBhZ2UvZXJyb3JfbG9nby0xNTB4NTQtMngucG5nKSAwfX1AbWVkaWEgb25seSBzY3JlZW4gYW5kICgtd2Via2l0LW1pbi1kZXZpY2UtcGl4ZWwtcmF0aW86Mil7I2xvZ297YmFja2dyb3VuZDp1cmwoLy93d3cuZ29vZ2xlLmNvbS9pbWFnZXMvbG9nb3MvZXJyb3JwYWdlL2Vycm9yX2xvZ28tMTUweDU0LTJ4LnBuZykgbm8tcmVwZWF0Oy13ZWJraXQtYmFja2dyb3VuZC1zaXplOjEwMCUgMTAwJX19I2xvZ297ZGlzcGxheTppbmxpbmUtYmxvY2s7aGVpZ2h0OjU0cHg7d2lkdGg6MTUwcHh9CiAgPC9zdHlsZT4KICA8YSBocmVmPS8vd3d3Lmdvb2dsZS5jb20vPjxzcGFuIGlkPWxvZ28gYXJpYS1sYWJlbD1Hb29nbGU+PC9zcGFuPjwvYT4KICA8cD48Yj40MDQuPC9iPiA8aW5zPlRoYXTigJlzIGFuIGVycm9yLjwvaW5zPgogIDxwPiAgPGlucz5UaGF04oCZcyBhbGwgd2Uga25vdy48L2lucz4K",
       "headers": [
        [
         "content-length",
         "1449"
        ],
        [
         "content-type",
         "text/html; charset=utf-8"
        ]
       ],
       "ok": false,
       "status": 404,
       "status_text": ""
      }
     }
    },
    "id": "-FGMZsE8D-8b",
    "outputId": "67fe1cbe-2abd-45a4-db20-8674e17dd705"
   },
   "outputs": [],
   "source": [
    "import sys, os\n",
    "from gym.wrappers import Monitor\n",
    "monitor_env = Monitor(gym.make(env_name), './video/', force=True)\n",
    "evaluate(agent, monitor_env, episodes=10)\n",
    "monitor_env.close()\n",
    "from IPython.display import HTML\n",
    "\n",
    "video_names = list(filter(lambda s: s.endswith(\".mp4\"), os.listdir(\"./video/\")))\n",
    "\n",
    "HTML(\"\"\"\n",
    "<video width=\"640\" height=\"480\" controls>\n",
    "  <source src=\"{}\" type=\"video/mp4\">\n",
    "</video>\n",
    "\"\"\".format(\"./video/\"+video_names[-1]))"
   ]
  },
  {
   "cell_type": "code",
   "execution_count": null,
   "id": "FWhEjIgcWpCT",
   "metadata": {
    "id": "FWhEjIgcWpCT"
   },
   "outputs": [],
   "source": []
  }
 ],
 "metadata": {
  "accelerator": "GPU",
  "colab": {
   "collapsed_sections": [],
   "name": "Copy of Ant__solved.ipynb",
   "provenance": []
  },
  "kernelspec": {
   "display_name": "Py3 Research",
   "language": "python",
   "name": "py3_research_kernel"
  },
  "language_info": {
   "codemirror_mode": {
    "name": "ipython",
    "version": 3
   },
   "file_extension": ".py",
   "mimetype": "text/x-python",
   "name": "python",
   "nbconvert_exporter": "python",
   "pygments_lexer": "ipython3",
   "version": "3.9.7"
  }
 },
 "nbformat": 4,
 "nbformat_minor": 5
}
