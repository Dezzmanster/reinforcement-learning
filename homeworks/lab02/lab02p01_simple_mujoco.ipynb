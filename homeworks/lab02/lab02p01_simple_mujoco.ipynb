{
 "cells": [
  {
   "cell_type": "markdown",
   "metadata": {},
   "source": [
    "### MuJoCo simple environment\n",
    "\n",
    "To install MuJoCo in the Google Colab run the following cells."
   ]
  },
  {
   "cell_type": "code",
   "execution_count": null,
   "metadata": {
    "colab": {
     "base_uri": "https://localhost:8080/"
    },
    "id": "s7PPg0VZG5cK",
    "outputId": "f46b6d19-de9c-4aa4-b72d-285d21cd8e1e"
   },
   "outputs": [],
   "source": [
    "!apt-get install -y \\\n",
    "    libgl1-mesa-dev \\\n",
    "    libgl1-mesa-glx \\\n",
    "    libglew-dev \\\n",
    "    libosmesa6-dev \\\n",
    "    software-properties-common\n",
    "\n",
    "!apt-get install -y patchelf"
   ]
  },
  {
   "cell_type": "code",
   "execution_count": null,
   "metadata": {
    "colab": {
     "base_uri": "https://localhost:8080/"
    },
    "id": "5w7tslZCHl0T",
    "outputId": "ada21492-69a0-45a5-e7a2-a213377b495b"
   },
   "outputs": [],
   "source": [
    "!pip install gym"
   ]
  },
  {
   "cell_type": "markdown",
   "metadata": {},
   "source": [
    "You will need to restart the environment once after the following cell."
   ]
  },
  {
   "cell_type": "code",
   "execution_count": null,
   "metadata": {
    "colab": {
     "base_uri": "https://localhost:8080/",
     "height": 780
    },
    "id": "3qeAEFtTG8dV",
    "outputId": "798d526b-bfda-4be9-ae6b-0c4aa5c1d48d"
   },
   "outputs": [],
   "source": [
    "!pip install free-mujoco-py"
   ]
  },
  {
   "cell_type": "markdown",
   "metadata": {
    "id": "MHtnurnyIwaZ"
   },
   "source": [
    "Now you can import all the necessary libraries."
   ]
  },
  {
   "cell_type": "code",
   "execution_count": null,
   "metadata": {},
   "outputs": [],
   "source": [
    "import sys\n",
    "import torch\n",
    "import torch.nn as nn\n",
    "from torch.distributions.normal import Normal #continuous distribution"
   ]
  },
  {
   "cell_type": "code",
   "execution_count": null,
   "metadata": {
    "colab": {
     "base_uri": "https://localhost:8080/"
    },
    "id": "TtWrmOCKHD6I",
    "outputId": "cf50ecd1-a682-4106-9471-21d9b0f7b749"
   },
   "outputs": [],
   "source": [
    "import mujoco_py\n",
    "import gym"
   ]
  },
  {
   "cell_type": "markdown",
   "metadata": {},
   "source": [
    "### Step 1: Continious control\n",
    "\n",
    "Your first goal is to solve the already well known Cartpole problem, but in the continious case. The environment is named `InvertedPendulum-v2`.\n",
    "\n",
    "It's enough to balance the pendulum. Score about 100 should go the trick."
   ]
  },
  {
   "cell_type": "code",
   "execution_count": null,
   "metadata": {
    "id": "LgfHuPl2CTzP"
   },
   "outputs": [],
   "source": [
    "env_name = 'InvertedPendulum-v2'\n",
    "env = gym.make(env_name)\n",
    "\n",
    "n_actions = env.action_space.n if isinstance(env.action_space, gym.spaces.discrete.Discrete) else env.action_space.shape[0]\n",
    "state_dim = env.observation_space.shape"
   ]
  },
  {
   "cell_type": "markdown",
   "metadata": {},
   "source": [
    "Action space is now continious, so be careful with adapting the original Policy Gradient!"
   ]
  },
  {
   "cell_type": "code",
   "execution_count": null,
   "metadata": {
    "colab": {
     "base_uri": "https://localhost:8080/"
    },
    "id": "dj31VPo4HRue",
    "outputId": "22e552c9-984a-4bb6-e3ef-2d97fb481da4"
   },
   "outputs": [],
   "source": [
    "env.action_space"
   ]
  },
  {
   "cell_type": "code",
   "execution_count": null,
   "metadata": {
    "id": "u1CI_kzUC1Hi"
   },
   "outputs": [],
   "source": [
    "import numpy as np\n",
    "import matplotlib.pyplot as plt\n",
    "%matplotlib inline"
   ]
  },
  {
   "cell_type": "code",
   "execution_count": null,
   "metadata": {
    "colab": {
     "base_uri": "https://localhost:8080/",
     "height": 286
    },
    "id": "uWpXyJsDCdjc",
    "outputId": "75f12ecd-b145-489e-f3f5-c34fe7a262ac"
   },
   "outputs": [],
   "source": [
    "env.reset()\n",
    "\n",
    "plt.imshow(env.render(\"rgb_array\"))"
   ]
  },
  {
   "cell_type": "markdown",
   "metadata": {
    "id": "283sszTnCro2"
   },
   "source": [
    "Your code goes next ;) You are free to use any approaches. If you use the pre-implemented version of PPO/TRPO/SAC/..., please, explicitly explain what does it do with your own words.\n",
    "\n",
    "At the end of the notebook, please, leave your comments on the lab implementations."
   ]
  },
  {
   "cell_type": "code",
   "execution_count": null,
   "metadata": {
    "id": "w1o18JVeZ4Ll"
   },
   "outputs": [],
   "source": [
    "# YOUR EXPERIMENTS HERE"
   ]
  }
 ],
 "metadata": {
  "accelerator": "GPU",
  "colab": {
   "collapsed_sections": [],
   "name": "mujoco_example.ipynb",
   "provenance": []
  },
  "kernelspec": {
   "display_name": "Python 3 (ipykernel)",
   "language": "python",
   "name": "python3"
  },
  "language_info": {
   "codemirror_mode": {
    "name": "ipython",
    "version": 3
   },
   "file_extension": ".py",
   "mimetype": "text/x-python",
   "name": "python",
   "nbconvert_exporter": "python",
   "pygments_lexer": "ipython3",
   "version": "3.9.7"
  }
 },
 "nbformat": 4,
 "nbformat_minor": 1
}
