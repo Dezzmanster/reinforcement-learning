{
  "cells": [
    {
      "cell_type": "code",
      "execution_count": 1,
      "metadata": {
        "colab": {
          "base_uri": "https://localhost:8080/"
        },
        "id": "Ke1Bl2WwIqxl",
        "outputId": "53c31324-6df1-400b-f1a0-dca67e08f78e"
      },
      "outputs": [
        {
          "output_type": "stream",
          "name": "stdout",
          "text": [
            "Starting virtual X frame buffer: Xvfb.\n"
          ]
        }
      ],
      "source": [
        "import sys, os\n",
        "if 'google.colab' in sys.modules and not os.path.exists('.setup_complete'):\n",
        "    !wget -q https://raw.githubusercontent.com/yandexdataschool/Practical_RL/master/setup_colab.sh -O- | bash\n",
        "    !touch .setup_complete\n",
        "\n",
        "# This code creates a virtual display to draw game images on.\n",
        "# It will have no effect if your machine has a monitor.\n",
        "if type(os.environ.get(\"DISPLAY\")) is not str or len(os.environ.get(\"DISPLAY\")) == 0:\n",
        "    !bash ../xvfb start\n",
        "    os.environ['DISPLAY'] = ':1'"
      ]
    },
    {
      "cell_type": "markdown",
      "metadata": {
        "id": "9khYo0PsIqxo"
      },
      "source": [
        "### Let's make a TRPO!\n",
        "\n",
        "In this notebook we will write the code of the one Trust Region Policy Optimization.\n",
        "As usually, it contains a few different parts which we are going to reproduce.\n",
        "\n"
      ]
    },
    {
      "cell_type": "code",
      "execution_count": 2,
      "metadata": {
        "id": "cOP-5SZiIqxo"
      },
      "outputs": [],
      "source": [
        "from typing import Tuple\n",
        "\n",
        "import numpy as np\n",
        "import torch\n",
        "import torch.nn as nn\n",
        "import torch.nn.functional as F\n",
        "\n",
        "import matplotlib.pyplot as plt\n",
        "%matplotlib inline"
      ]
    },
    {
      "cell_type": "code",
      "execution_count": 3,
      "metadata": {
        "colab": {
          "base_uri": "https://localhost:8080/"
        },
        "id": "bYUDiPbaIqxp",
        "outputId": "bd5c5070-e63f-47f3-a409-eb962b42173c"
      },
      "outputs": [
        {
          "output_type": "stream",
          "name": "stdout",
          "text": [
            "Observation Space Box(-28.274333953857422, 28.274333953857422, (6,), float32)\n",
            "Action Space Discrete(3)\n"
          ]
        }
      ],
      "source": [
        "import gym\n",
        "\n",
        "env = gym.make(\"Acrobot-v1\")\n",
        "env.reset()\n",
        "observation_shape = env.observation_space.shape\n",
        "n_actions = env.action_space.n\n",
        "\n",
        "print(\"Observation Space\", env.observation_space)\n",
        "print(\"Action Space\", env.action_space)"
      ]
    },
    {
      "cell_type": "code",
      "execution_count": 4,
      "metadata": {
        "colab": {
          "base_uri": "https://localhost:8080/",
          "height": 517
        },
        "id": "_KDreoR_Iqxp",
        "outputId": "29d7cf19-3981-4edf-8ef2-442dda2b52c4"
      },
      "outputs": [
        {
          "output_type": "execute_result",
          "data": {
            "text/plain": [
              "<PIL.Image.Image image mode=RGB size=500x500 at 0x7FD0F492D790>"
            ],
            "image/png": "[encoded data removed]"
          },
          "metadata": {},
          "execution_count": 4
        }
      ],
      "source": [
        "from PIL import Image\n",
        "\n",
        "Image.fromarray(env.render('rgb_array'))"
      ]
    },
    {
      "cell_type": "markdown",
      "metadata": {
        "id": "mqED5T2ZIqxp"
      },
      "source": [
        "### Step 1: Defining a network\n",
        "\n",
        "With all it's complexity, at it's core TRPO is yet another policy gradient method.\n",
        "\n",
        "This essentially means we're actually training a stochastic policy $\\pi_\\theta \\left( a \\middle| s \\right)$.\n",
        "\n",
        "And yes, it's gonna be a neural network. So let's start by defining one."
      ]
    },
    {
      "cell_type": "code",
      "execution_count": 5,
      "metadata": {
        "id": "1UjpeWqzIqxp"
      },
      "outputs": [],
      "source": [
        "class TRPOAgent(nn.Module):\n",
        "    def __init__(self, state_shape: Tuple[int], n_actions: int, hid_size=32):\n",
        "        '''\n",
        "        Here you should define your model\n",
        "        You should have LOG-PROBABILITIES as output because you will need it to compute loss\n",
        "        We recommend that you start simple:\n",
        "        use 1-2 hidden layers with 100-500 units and relu for the first try\n",
        "        '''\n",
        "        nn.Module.__init__(self)\n",
        "\n",
        "        assert isinstance(state_shape, tuple)\n",
        "        assert len(state_shape) == 1\n",
        "        input_dim = state_shape[0]\n",
        "        \n",
        "        # Prepare your model here.\n",
        "        self.model = nn.Sequential(\n",
        "            nn.Linear(input_dim, hid_size),\n",
        "            nn.ReLU(),\n",
        "            nn.Linear(hid_size, n_actions),\n",
        "            nn.LogSoftmax(dim=-1)\n",
        "        )\n",
        "\n",
        "    def forward(self, states: torch.Tensor):\n",
        "        \"\"\"\n",
        "        takes agent's observation, returns log-probabilities\n",
        "        :param state_t: a batch of states, shape = [batch_size, state_shape]\n",
        "        \"\"\"\n",
        "\n",
        "        # Use your network to compute log_probs for the given states.\n",
        "        # <YOUR CODE>\n",
        "        log_probs = self.model(states)\n",
        "        \n",
        "        return log_probs\n",
        "\n",
        "    def get_log_probs(self, states: torch.Tensor):\n",
        "        '''\n",
        "        Log-probs for training\n",
        "        '''\n",
        "        return self.forward(states)\n",
        "\n",
        "    def get_probs(self, states: torch.Tensor):\n",
        "        '''\n",
        "        Probs for interaction\n",
        "        '''\n",
        "        return torch.exp(self.forward(states))\n",
        "\n",
        "    def act(self, obs: np.ndarray, sample: bool = True):\n",
        "        '''\n",
        "        Samples action from policy distribution (sample = True) or takes most likely action (sample = False)\n",
        "        :param: obs - single observation vector\n",
        "        :param sample: if True, samples from \\pi, otherwise takes most likely action\n",
        "        :returns: action (single integer) and probabilities for all actions\n",
        "        '''\n",
        "\n",
        "        with torch.no_grad():\n",
        "            probs = self.get_probs(torch.tensor(obs[np.newaxis], dtype=torch.float32)).numpy()\n",
        "\n",
        "        if sample:\n",
        "            action = int(np.random.choice(n_actions, p=probs[0]))\n",
        "        else:\n",
        "            action = int(np.argmax(probs))\n",
        "\n",
        "        return action, probs[0]\n",
        "\n",
        "\n",
        "agent = TRPOAgent(observation_shape, n_actions, hid_size=256)"
      ]
    },
    {
      "cell_type": "code",
      "execution_count": 6,
      "metadata": {
        "colab": {
          "base_uri": "https://localhost:8080/"
        },
        "id": "zDiu-x6xIqxq",
        "outputId": "6d479b47-2156-454b-c5da-b24db844778a"
      },
      "outputs": [
        {
          "output_type": "stream",
          "name": "stdout",
          "text": [
            "sampled: [(0, array([0.37867326, 0.34924498, 0.27208176], dtype=float32)), (0, array([0.37536764, 0.35253555, 0.2720968 ], dtype=float32)), (2, array([0.37788838, 0.34772328, 0.2743883 ], dtype=float32)), (2, array([0.37860128, 0.34654936, 0.27484944], dtype=float32)), (0, array([0.3808127 , 0.34107754, 0.27810967], dtype=float32))]\n",
            "greedy: [(0, array([0.37955016, 0.34794334, 0.27250654], dtype=float32)), (0, array([0.37677765, 0.34856832, 0.27465403], dtype=float32)), (0, array([0.38168797, 0.34093246, 0.27737963], dtype=float32)), (0, array([0.3773397 , 0.34874985, 0.27391043], dtype=float32)), (0, array([0.37283576, 0.35356417, 0.27360007], dtype=float32))]\n"
          ]
        }
      ],
      "source": [
        "# Check if log-probabilities satisfies all the requirements\n",
        "log_probs = agent.get_log_probs(torch.tensor(env.reset()[np.newaxis], dtype=torch.float32))\n",
        "assert (\n",
        "    isinstance(log_probs, torch.Tensor) and\n",
        "    log_probs.requires_grad\n",
        "), \"log_probs must be a torch.Tensor with grad\"\n",
        "assert log_probs.shape == (1, n_actions)\n",
        "sums = torch.exp(log_probs).sum(dim=1)\n",
        "assert torch.allclose(sums, torch.ones_like(sums))\n",
        "\n",
        "# Demo use\n",
        "print(\"sampled:\", [agent.act(env.reset()) for _ in range(5)])\n",
        "print(\"greedy:\", [agent.act(env.reset(), sample=False) for _ in range(5)])"
      ]
    },
    {
      "cell_type": "markdown",
      "metadata": {
        "id": "vqT4JWM8Iqxq"
      },
      "source": [
        "#### Flat parameters operations\n",
        "\n",
        "We are going to use it"
      ]
    },
    {
      "cell_type": "code",
      "execution_count": 7,
      "metadata": {
        "id": "s772A54VIqxq"
      },
      "outputs": [],
      "source": [
        "def get_flat_params_from(model):\n",
        "    params = [torch.ravel(param.detach()) for param in model.parameters()]\n",
        "    flat_params = torch.cat(params)\n",
        "    return flat_params\n",
        "\n",
        "\n",
        "def set_flat_params_to(model, flat_params):\n",
        "    prev_ind = 0\n",
        "    for param in model.parameters():\n",
        "        flat_size = int(np.prod(list(param.shape)))\n",
        "        param.data.copy_(\n",
        "            flat_params[prev_ind:prev_ind + flat_size].reshape(param.shape)\n",
        "        )\n",
        "        prev_ind += flat_size"
      ]
    },
    {
      "cell_type": "markdown",
      "metadata": {
        "id": "1Hjiyh3OIqxq"
      },
      "source": [
        "Compute cumulative reward just like you did in vanilla REINFORCE"
      ]
    },
    {
      "cell_type": "code",
      "execution_count": 8,
      "metadata": {
        "id": "59OGYnQHIqxq"
      },
      "outputs": [],
      "source": [
        "import scipy.signal\n",
        "\n",
        "\n",
        "def get_cumulative_returns(r, gamma=1):\n",
        "    \"\"\"\n",
        "    Computes cumulative discounted rewards given immediate rewards\n",
        "    G_i = r_i + gamma*r_{i+1} + gamma^2*r_{i+2} + ...\n",
        "    Also known as R(s,a).\n",
        "    \"\"\"\n",
        "    r = np.array(r)\n",
        "    assert r.ndim >= 1\n",
        "    return scipy.signal.lfilter([1], [1, -gamma], r[::-1], axis=0)[::-1]"
      ]
    },
    {
      "cell_type": "code",
      "execution_count": 9,
      "metadata": {
        "colab": {
          "base_uri": "https://localhost:8080/"
        },
        "id": "VGXjiJuWIqxr",
        "outputId": "c9a4ff26-29b6-4f88-f44c-357dc0b506ec"
      },
      "outputs": [
        {
          "output_type": "execute_result",
          "data": {
            "text/plain": [
              "array([1.40049, 1.5561 , 1.729  , 0.81   , 0.9    , 1.     ])"
            ]
          },
          "metadata": {},
          "execution_count": 9
        }
      ],
      "source": [
        "# simple demo on rewards [0,0,1,0,0,1]\n",
        "get_cumulative_returns([0, 0, 1, 0, 0, 1], gamma=0.9)"
      ]
    },
    {
      "cell_type": "markdown",
      "metadata": {
        "id": "h4ppcsVKIqxr"
      },
      "source": [
        "**Rollout**"
      ]
    },
    {
      "cell_type": "code",
      "execution_count": 10,
      "metadata": {
        "id": "OqnpHk2iIqxr"
      },
      "outputs": [],
      "source": [
        "def rollout(env, agent, max_pathlength=2500, n_timesteps=50000):\n",
        "    \"\"\"\n",
        "    Generate rollouts for training.\n",
        "    :param: env - environment in which we will make actions to generate rollouts.\n",
        "    :param: act - the function that can return policy and action given observation.\n",
        "    :param: max_pathlength - maximum size of one path that we generate.\n",
        "    :param: n_timesteps - total sum of sizes of all pathes we generate.\n",
        "    \"\"\"\n",
        "    paths = []\n",
        "\n",
        "    total_timesteps = 0\n",
        "    while total_timesteps < n_timesteps:\n",
        "        obervations, actions, rewards, action_probs = [], [], [], []\n",
        "        obervation = env.reset()\n",
        "        for _ in range(max_pathlength):\n",
        "            action, policy = agent.act(obervation)\n",
        "            obervations.append(obervation)\n",
        "            actions.append(action)\n",
        "            action_probs.append(policy)\n",
        "            obervation, reward, done, _ = env.step(action)\n",
        "            rewards.append(reward)\n",
        "            total_timesteps += 1\n",
        "            if done or total_timesteps >= n_timesteps:\n",
        "                path = {\n",
        "                    \"observations\": np.array(obervations),\n",
        "                    \"policy\": np.array(action_probs),\n",
        "                    \"actions\": np.array(actions),\n",
        "                    \"rewards\": np.array(rewards),\n",
        "                    \"cumulative_returns\": get_cumulative_returns(rewards),\n",
        "                }\n",
        "                paths.append(path)\n",
        "                break\n",
        "    return paths"
      ]
    },
    {
      "cell_type": "code",
      "execution_count": 11,
      "metadata": {
        "colab": {
          "base_uri": "https://localhost:8080/"
        },
        "id": "vZdc6JqZIqxr",
        "outputId": "8fb9f6cf-0749-44dd-d113-ad9fd96cbef5"
      },
      "outputs": [
        {
          "output_type": "stream",
          "name": "stdout",
          "text": [
            "{'actions': array([0, 1, 0, 1, 1]),\n",
            " 'cumulative_returns': array([-5., -4., -3., -2., -1.]),\n",
            " 'observations': array([[ 0.99894541, -0.04591364,  0.99605279,  0.08876279, -0.09472404,\n",
            "         0.01588979],\n",
            "       [ 0.9990491 , -0.04359933,  0.99904414,  0.04371271,  0.11579802,\n",
            "        -0.45886475],\n",
            "       [ 0.9998737 , -0.01589301,  0.99861622, -0.05258935,  0.15268496,\n",
            "        -0.48350708],\n",
            "       [ 0.99963825,  0.02689555,  0.98470589, -0.17422487,  0.262336  ,\n",
            "        -0.71304768],\n",
            "       [ 0.9975672 ,  0.06971142,  0.95807714, -0.28651036,  0.1548193 ,\n",
            "        -0.41674623]]),\n",
            " 'policy': array([[0.37580606, 0.3438832 , 0.28031075],\n",
            "       [0.37352937, 0.37607673, 0.25039387],\n",
            "       [0.37630454, 0.37840456, 0.24529096],\n",
            "       [0.3769973 , 0.39167628, 0.2313264 ],\n",
            "       [0.38023737, 0.376221  , 0.24354164]], dtype=float32),\n",
            " 'rewards': array([-1., -1., -1., -1., -1.])}\n",
            "It's ok\n"
          ]
        }
      ],
      "source": [
        "from pprint import pprint\n",
        "\n",
        "paths = rollout(env, agent, max_pathlength=5, n_timesteps=100)\n",
        "pprint(paths[-1])\n",
        "\n",
        "assert (paths[0]['policy'].shape == (5, n_actions))\n",
        "assert (paths[0]['cumulative_returns'].shape == (5,))\n",
        "assert (paths[0]['rewards'].shape == (5,))\n",
        "assert (paths[0]['observations'].shape == (5,) + observation_shape)\n",
        "assert (paths[0]['actions'].shape == (5,))\n",
        "\n",
        "print(\"It's ok\")"
      ]
    },
    {
      "cell_type": "markdown",
      "metadata": {
        "id": "rxoRvW85Iqxs"
      },
      "source": [
        "### Step 3: Auxiliary functions\n",
        "\n",
        "Now let's define the loss functions and something else for actual TRPO training."
      ]
    },
    {
      "cell_type": "markdown",
      "metadata": {
        "id": "hdxjsEBVIqxs"
      },
      "source": [
        "The surrogate reward should be:\n",
        "$$J_{surr}= {1 \\over N} \\sum\\limits_{i=1}^N \\frac{\\pi_{\\theta}(s_i, a_i)}{\\pi_{\\theta_{old}}(s_i, a_i)}A_{\\theta_{old}(s_i, a_i)}$$\n",
        "\n",
        "For simplicity, in this assignment we are going to use cumulative rewards instead of advantage:\n",
        "$$J'_{surr}= {1 \\over N} \\sum\\limits_{i=1}^N \\frac{\\pi_{\\theta}(s_i, a_i)}{\\pi_{\\theta_{old}}(s_i, a_i)}G_{\\theta_{old}(s_i, a_i)}$$\n",
        "\n",
        "Since we want to maximize the reward, we are going to minimize the corresponding surrogate loss:\n",
        "$$ L_{surr} = - J'_{surr} $$\n"
      ]
    },
    {
      "cell_type": "code",
      "execution_count": 12,
      "metadata": {
        "id": "rqCuZRAZIqxs"
      },
      "outputs": [],
      "source": [
        "def get_loss(agent, observations, actions, cumulative_returns, old_probs):\n",
        "    \"\"\"\n",
        "    Computes TRPO objective\n",
        "    :param: observations - batch of observations [timesteps x state_shape]\n",
        "    :param: actions - batch of actions [timesteps]\n",
        "    :param: cumulative_returns - batch of cumulative returns [timesteps]\n",
        "    :param: old_probs - batch of probabilities computed by old network [timesteps x num_actions]\n",
        "    :returns: scalar value of the objective function\n",
        "    \"\"\"\n",
        "    batch_size = observations.shape[0]\n",
        "    probs_all = agent.get_probs(observations)\n",
        "\n",
        "    probs_for_actions = probs_all[torch.arange(batch_size), actions]\n",
        "    old_probs_for_actions = old_probs[torch.arange(batch_size), actions]\n",
        "\n",
        "    # Compute surrogate loss, aka importance-sampled policy gradient\n",
        "    loss = -torch.mean(cumulative_returns * (probs_for_actions / old_probs_for_actions))\n",
        "\n",
        "    assert loss.ndim == 0\n",
        "    return loss"
      ]
    },
    {
      "cell_type": "markdown",
      "metadata": {
        "id": "uu0aY7LzIqxs"
      },
      "source": [
        "We can ascend these gradients as long as our $\\pi_\\theta(a|s)$ satisfies the constraint\n",
        "$$\\mathbb{E}_{s,\\pi_{\\theta_{t}}} \\Big[ \\operatorname{KL} \\left( \\pi_{\\theta_{t}} (s) \\:\\|\\: \\pi_{\\theta_{t+1}} (s) \\right) \\Big] < \\alpha$$\n",
        "\n",
        "\n",
        "where\n",
        "\n",
        "$$\\operatorname{KL} \\left( p \\| q \\right) = \\mathbb{E}_p \\log \\left( \\frac p q \\right)$$"
      ]
    },
    {
      "cell_type": "code",
      "execution_count": 13,
      "metadata": {
        "id": "y1sYi5-oIqxs"
      },
      "outputs": [],
      "source": [
        "def get_kl(agent, observations, actions, cumulative_returns, old_probs):\n",
        "    \"\"\"\n",
        "    Computes KL-divergence between network policy and old policy\n",
        "    :param: observations - batch of observations [timesteps x state_shape]\n",
        "    :param: actions - batch of actions [timesteps]\n",
        "    :param: cumulative_returns - batch of cumulative returns [timesteps] (we don't need it actually)\n",
        "    :param: old_probs - batch of probabilities computed by old network [timesteps x num_actions]\n",
        "    :returns: scalar value of the KL-divergence\n",
        "    \"\"\"\n",
        "    batch_size = observations.shape[0]\n",
        "    log_probs_all = agent.get_log_probs(observations)\n",
        "    probs_all = torch.exp(log_probs_all)\n",
        "\n",
        "    # Compute Kullback-Leibler divergence (see formula above).\n",
        "    # Note: you need to sum KL and entropy over all actions, not just the ones agent took.\n",
        "    # You will also need to compute max KL over all timesteps.\n",
        "    old_log_probs = torch.log(old_probs + 1e-10)\n",
        "\n",
        "    kl = torch.sum(old_probs * (old_log_probs - log_probs_all)) / batch_size\n",
        "\n",
        "    assert kl.ndim == 0\n",
        "    assert (kl > -0.0001).all() and (kl < 10000).all()\n",
        "    return kl"
      ]
    },
    {
      "cell_type": "code",
      "execution_count": 14,
      "metadata": {
        "id": "xNBGp9FRIqxt"
      },
      "outputs": [],
      "source": [
        "def get_entropy(agent, observations):\n",
        "    \"\"\"\n",
        "    Computes entropy of the network policy\n",
        "    :param: observations - batch of observations\n",
        "    :returns: scalar value of the entropy\n",
        "    \"\"\"\n",
        "\n",
        "    observations = torch.tensor(observations, dtype=torch.float32)\n",
        "\n",
        "    log_probs_all = agent.get_log_probs(observations)\n",
        "    probs_all = torch.exp(log_probs_all)\n",
        "\n",
        "    entropy = (-probs_all * log_probs_all).sum(dim=1).mean(dim=0)\n",
        "\n",
        "    assert entropy.ndim == 0\n",
        "    return entropy"
      ]
    },
    {
      "cell_type": "markdown",
      "metadata": {
        "id": "OCOpTUvMIqxt"
      },
      "source": [
        "**Linear search**\n",
        "\n",
        "TRPO in its core involves ascending surrogate policy gradient constrained by KL divergence.\n",
        "\n",
        "In order to enforce this constraint, we're gonna use linesearch. You can find out more about it [here](https://en.wikipedia.org/wiki/Linear_search)"
      ]
    },
    {
      "cell_type": "code",
      "execution_count": 15,
      "metadata": {
        "id": "TxAnFAR0Iqxt"
      },
      "outputs": [],
      "source": [
        "def linesearch(f, x: torch.Tensor, fullstep: torch.Tensor, max_kl: float, max_backtracks: int = 10, backtrack_coef: float = 0.5):\n",
        "    \"\"\"\n",
        "    Linesearch finds the best parameters of neural networks in the direction of fullstep contrainted by KL divergence.\n",
        "    :param: f - function that returns loss, kl and arbitrary third component.\n",
        "    :param: x - old parameters of neural network.\n",
        "    :param: fullstep - direction in which we make search.\n",
        "    :param: max_kl - constraint of KL divergence.\n",
        "    :returns:\n",
        "    \"\"\"\n",
        "    loss, _, = f(x)\n",
        "    for stepfrac in backtrack_coef**np.arange(max_backtracks):\n",
        "        xnew = x + stepfrac * fullstep\n",
        "        new_loss, kl = f(xnew)\n",
        "        if kl <= max_kl and new_loss < loss:\n",
        "            x = xnew\n",
        "            loss = new_loss\n",
        "    return x"
      ]
    },
    {
      "cell_type": "markdown",
      "metadata": {
        "id": "xiiC5t9cIqxt"
      },
      "source": [
        "**Conjugate gradients**\n",
        "\n",
        "Since TRPO includes contrainted optimization, we will need to solve $A x = b$ using conjugate gradients.\n",
        "\n",
        "In general, CG is an algorithm that solves $A x = b$ where $A$ is positive-defined. $A$ is the Hessian matrix so $A$ is positive-defined. You can find out more about CG [here](https://en.wikipedia.org/wiki/Conjugate_gradient_method)."
      ]
    },
    {
      "cell_type": "code",
      "execution_count": 16,
      "metadata": {
        "id": "C4sqb4FzIqxt"
      },
      "outputs": [],
      "source": [
        "def conjugate_gradient(f_Ax, b, cg_iters=10, residual_tol=1e-10):\n",
        "    \"\"\"\n",
        "    This method solves system of equation Ax=b using an iterative method called conjugate gradients\n",
        "    :f_Ax: function that returns Ax\n",
        "    :b: targets for Ax\n",
        "    :cg_iters: how many iterations this method should do\n",
        "    :residual_tol: epsilon for stability\n",
        "    \"\"\"\n",
        "    p = b.clone()\n",
        "    r = b.clone()\n",
        "    x = torch.zeros_like(b)\n",
        "    rdotr = torch.sum(r*r)\n",
        "    for i in range(cg_iters):\n",
        "        z = f_Ax(p)\n",
        "        v = rdotr / (torch.sum(p*z) + 1e-8)\n",
        "        x += v * p\n",
        "        r -= v * z\n",
        "        newrdotr = torch.sum(r*r)\n",
        "        mu = newrdotr / (rdotr + 1e-8)\n",
        "        p = r + mu * p\n",
        "        rdotr = newrdotr\n",
        "        if rdotr < residual_tol:\n",
        "            break\n",
        "    return x"
      ]
    },
    {
      "cell_type": "code",
      "execution_count": 17,
      "metadata": {
        "colab": {
          "base_uri": "https://localhost:8080/"
        },
        "id": "Tov0OT7RIqxt",
        "outputId": "b55ab785-102c-4532-d8f3-7943e8119a63"
      },
      "outputs": [
        {
          "output_type": "stream",
          "name": "stdout",
          "text": [
            "[ -0.93378889  -0.55019254 -13.0694146   13.7429897  -11.03312528\n",
            " -10.29224396  29.1347946  -18.7284133 ]\n",
            "[ -0.9338266   -0.55024767 -13.069514    13.74312    -11.033258\n",
            " -10.292247    29.135021   -18.728521  ]\n"
          ]
        }
      ],
      "source": [
        "# This code validates conjugate gradients\n",
        "A = np.random.rand(8, 8)\n",
        "A = A.T @ A\n",
        "\n",
        "\n",
        "def f_Ax(x):\n",
        "    return torch.ravel(torch.tensor(A, dtype=torch.float32) @ x.reshape(-1, 1))\n",
        "\n",
        "\n",
        "b = np.random.rand(8)\n",
        "w = (np.linalg.inv(A.T @ A) @ A.T @ b.reshape(-1, 1)).reshape(-1)\n",
        "\n",
        "print(w)\n",
        "print(conjugate_gradient(f_Ax, torch.tensor(b, dtype=torch.float32)).numpy())"
      ]
    },
    {
      "cell_type": "markdown",
      "metadata": {
        "id": "eDEI4S5hIqxu"
      },
      "source": [
        "### Step 4: training\n",
        "In this section we construct the whole update step function."
      ]
    },
    {
      "cell_type": "code",
      "execution_count": 18,
      "metadata": {
        "id": "3vf0BWDkIqxu"
      },
      "outputs": [],
      "source": [
        "def update_step(agent, observations, actions, cumulative_returns, old_probs, max_kl):\n",
        "    \"\"\"\n",
        "    This function does the TRPO update step\n",
        "    :param: observations - batch of observations\n",
        "    :param: actions - batch of actions\n",
        "    :param: cumulative_returns - batch of cumulative returns\n",
        "    :param: old_probs - batch of probabilities computed by old network\n",
        "    :param: max_kl - controls how big KL divergence may be between old and new policy every step.\n",
        "    :returns: KL between new and old policies and the value of the loss function.\n",
        "    \"\"\"\n",
        "\n",
        "    # Here we prepare the information\n",
        "    observations = torch.tensor(observations, dtype=torch.float32)\n",
        "    actions = torch.tensor(actions, dtype=torch.int64)\n",
        "    cumulative_returns = torch.tensor(cumulative_returns, dtype=torch.float32)\n",
        "    old_probs = torch.tensor(old_probs, dtype=torch.float32)\n",
        "\n",
        "    # Here we compute gradient of the loss function\n",
        "    loss = get_loss(agent, observations, actions, cumulative_returns, old_probs)\n",
        "    grads = torch.autograd.grad(loss, agent.parameters())\n",
        "    loss_grad = torch.cat([torch.ravel(grad.detach()) for grad in grads])\n",
        "\n",
        "    def Fvp(v):\n",
        "        # Here we compute Fx to do solve Fx = g using conjugate gradients\n",
        "        # We actually do here a couple of tricks to compute it efficiently\n",
        "\n",
        "        kl = get_kl(agent, observations, actions, cumulative_returns, old_probs)\n",
        "\n",
        "        grads = torch.autograd.grad(kl, agent.parameters(), create_graph=True)\n",
        "        flat_grad_kl = torch.cat([grad.reshape(-1) for grad in grads])\n",
        "\n",
        "        kl_v = (flat_grad_kl * v).sum()\n",
        "        grads = torch.autograd.grad(kl_v, agent.parameters())\n",
        "        flat_grad_grad_kl = torch.cat([torch.ravel(grad) for grad in grads]).detach()\n",
        "\n",
        "        return flat_grad_grad_kl + v * 0.1\n",
        "\n",
        "    # Here we solve Fx = g system using conjugate gradients\n",
        "    stepdir = conjugate_gradient(Fvp, -loss_grad, 10)\n",
        "\n",
        "    # Here we compute the initial vector to do linear search\n",
        "    shs = 0.5 * (stepdir * Fvp(stepdir)).sum(0, keepdim=True)\n",
        "\n",
        "    lm = torch.sqrt(shs / max_kl)\n",
        "    fullstep = stepdir / lm[0]\n",
        "\n",
        "    neggdotstepdir = (-loss_grad * stepdir).sum(0, keepdim=True)\n",
        "\n",
        "    # Here we get the start point\n",
        "    prev_params = get_flat_params_from(agent)\n",
        "\n",
        "    def get_loss_kl(params):\n",
        "        # Helper for linear search\n",
        "        set_flat_params_to(agent, params)\n",
        "        return [\n",
        "            get_loss(agent, observations, actions, cumulative_returns, old_probs),\n",
        "            get_kl(agent, observations, actions, cumulative_returns, old_probs),\n",
        "        ]\n",
        "\n",
        "    # Here we find our new parameters\n",
        "    new_params = linesearch(get_loss_kl, prev_params, fullstep, max_kl)\n",
        "\n",
        "    # And we set it to our network\n",
        "    set_flat_params_to(agent, new_params)\n",
        "\n",
        "    return get_loss_kl(new_params)"
      ]
    },
    {
      "cell_type": "markdown",
      "metadata": {
        "id": "mqzR1y-aIqxu"
      },
      "source": [
        "### Step 5: Main TRPO loop\n",
        "\n",
        "Here we will train our network!"
      ]
    },
    {
      "cell_type": "code",
      "execution_count": null,
      "metadata": {
        "colab": {
          "base_uri": "https://localhost:8080/"
        },
        "id": "oYVWhnCZIqxu",
        "outputId": "380df07f-5b1d-495d-fd6e-4a0dc1f63be4"
      },
      "outputs": [
        {
          "output_type": "stream",
          "name": "stdout",
          "text": [
            "\n",
            "********** Iteration 1 ************\n",
            "Rollout\n",
            "Made rollout\n",
            "Total number of episodes:                 102\n",
            "Average sum of rewards per episode:       -490.1078431372549\n",
            "Std of rewards per episode:               31.413406299666754\n",
            "Time elapsed:                             0.82 mins\n",
            "KL between old and new distribution:      0.009977186\n",
            "Entropy:                                  1.0603896\n",
            "Surrogate loss:                           245.52168\n",
            "\n",
            "********** Iteration 2 ************\n",
            "Rollout\n",
            "Made rollout\n",
            "Total number of episodes:                 206\n",
            "Average sum of rewards per episode:       -480.5673076923077\n",
            "Std of rewards per episode:               49.99899314814652\n",
            "Time elapsed:                             1.37 mins\n",
            "KL between old and new distribution:      0.009978937\n",
            "Entropy:                                  1.0513974\n",
            "Surrogate loss:                           242.56708\n",
            "\n",
            "********** Iteration 3 ************\n",
            "Rollout\n",
            "Made rollout\n",
            "Total number of episodes:                 322\n",
            "Average sum of rewards per episode:       -430.4310344827586\n",
            "Std of rewards per episode:               79.58678023758102\n",
            "Time elapsed:                             1.91 mins\n",
            "KL between old and new distribution:      0.009999311\n",
            "Entropy:                                  1.0240164\n",
            "Surrogate loss:                           221.98479\n",
            "\n",
            "********** Iteration 4 ************\n",
            "Rollout\n",
            "Made rollout\n",
            "Total number of episodes:                 444\n",
            "Average sum of rewards per episode:       -409.1475409836066\n",
            "Std of rewards per episode:               83.72806021713228\n",
            "Time elapsed:                             2.38 mins\n",
            "KL between old and new distribution:      0.009976328\n",
            "Entropy:                                  1.0030376\n",
            "Surrogate loss:                           212.34698\n",
            "\n",
            "********** Iteration 5 ************\n",
            "Rollout\n",
            "Made rollout\n",
            "Total number of episodes:                 623\n",
            "Average sum of rewards per episode:       -278.33519553072625\n",
            "Std of rewards per episode:               60.02559455347427\n",
            "Time elapsed:                             2.90 mins\n",
            "KL between old and new distribution:      0.009984353\n",
            "Entropy:                                  0.9720116\n",
            "Surrogate loss:                           145.07835\n",
            "\n",
            "********** Iteration 6 ************\n",
            "Rollout\n",
            "Made rollout\n",
            "Total number of episodes:                 856\n",
            "Average sum of rewards per episode:       -213.59656652360516\n",
            "Std of rewards per episode:               44.32362826468524\n",
            "Time elapsed:                             3.35 mins\n",
            "KL between old and new distribution:      0.009979976\n",
            "Entropy:                                  0.9348588\n",
            "Surrogate loss:                           110.92651\n",
            "\n",
            "********** Iteration 7 ************\n",
            "Rollout\n",
            "Made rollout\n",
            "Total number of episodes:                 1125\n",
            "Average sum of rewards per episode:       -184.87732342007436\n",
            "Std of rewards per episode:               38.00014437816744\n",
            "Time elapsed:                             3.83 mins\n",
            "KL between old and new distribution:      0.009985692\n",
            "Entropy:                                  0.9061102\n",
            "Surrogate loss:                           95.8584\n",
            "\n",
            "********** Iteration 8 ************\n",
            "Rollout\n",
            "Made rollout\n",
            "Total number of episodes:                 1430\n",
            "Average sum of rewards per episode:       -162.93770491803278\n",
            "Std of rewards per episode:               38.18049525194007\n",
            "Time elapsed:                             4.30 mins\n",
            "KL between old and new distribution:      0.009976981\n",
            "Entropy:                                  0.86509305\n",
            "Surrogate loss:                           85.48094\n",
            "\n",
            "********** Iteration 9 ************\n",
            "Rollout\n",
            "Made rollout\n",
            "Total number of episodes:                 1758\n",
            "Average sum of rewards per episode:       -151.4512195121951\n",
            "Std of rewards per episode:               51.944893981101856\n",
            "Time elapsed:                             4.81 mins\n",
            "KL between old and new distribution:      0.0099877305\n",
            "Entropy:                                  0.8228679\n",
            "Surrogate loss:                           84.16553\n",
            "\n",
            "********** Iteration 10 ************\n",
            "Rollout\n",
            "Made rollout\n",
            "Total number of episodes:                 2103\n",
            "Average sum of rewards per episode:       -143.9304347826087\n",
            "Std of rewards per episode:               38.31624056604865\n",
            "Time elapsed:                             5.21 mins\n",
            "KL between old and new distribution:      0.009975111\n",
            "Entropy:                                  0.8116785\n",
            "Surrogate loss:                           76.67731\n",
            "\n",
            "********** Iteration 11 ************\n",
            "Rollout\n",
            "Made rollout\n",
            "Total number of episodes:                 2466\n",
            "Average sum of rewards per episode:       -136.74380165289256\n",
            "Std of rewards per episode:               30.478605310786218\n",
            "Time elapsed:                             5.62 mins\n",
            "KL between old and new distribution:      0.009973712\n",
            "Entropy:                                  0.772924\n",
            "Surrogate loss:                           71.47703\n",
            "\n",
            "********** Iteration 12 ************\n",
            "Rollout\n",
            "Made rollout\n",
            "Total number of episodes:                 2847\n",
            "Average sum of rewards per episode:       -130.23884514435696\n",
            "Std of rewards per episode:               41.81873348222521\n",
            "Time elapsed:                             6.02 mins\n",
            "KL between old and new distribution:      0.009999589\n",
            "Entropy:                                  0.74682724\n",
            "Surrogate loss:                           71.350494\n",
            "\n",
            "********** Iteration 13 ************\n",
            "Rollout\n",
            "Made rollout\n",
            "Total number of episodes:                 3257\n",
            "Average sum of rewards per episode:       -120.9560975609756\n",
            "Std of rewards per episode:               39.92093435035202\n",
            "Time elapsed:                             6.43 mins\n",
            "KL between old and new distribution:      0.009972652\n",
            "Entropy:                                  0.7085673\n",
            "Surrogate loss:                           66.68542\n",
            "\n",
            "********** Iteration 14 ************\n",
            "Rollout\n",
            "Made rollout\n",
            "Total number of episodes:                 3686\n",
            "Average sum of rewards per episode:       -115.55244755244755\n",
            "Std of rewards per episode:               32.63444738331184\n",
            "Time elapsed:                             6.83 mins\n",
            "KL between old and new distribution:      0.009980466\n",
            "Entropy:                                  0.6981095\n",
            "Surrogate loss:                           62.031376\n",
            "\n",
            "********** Iteration 15 ************\n",
            "Rollout\n",
            "Made rollout\n",
            "Total number of episodes:                 4113\n",
            "Average sum of rewards per episode:       -116.10070257611241\n",
            "Std of rewards per episode:               40.20260951919361\n",
            "Time elapsed:                             7.22 mins\n",
            "KL between old and new distribution:      0.009981115\n",
            "Entropy:                                  0.69871056\n",
            "Surrogate loss:                           64.66855\n",
            "\n",
            "********** Iteration 16 ************\n",
            "Rollout\n",
            "Made rollout\n",
            "Total number of episodes:                 4545\n",
            "Average sum of rewards per episode:       -114.74305555555556\n",
            "Std of rewards per episode:               33.5488339190835\n",
            "Time elapsed:                             7.62 mins\n",
            "KL between old and new distribution:      0.009996983\n",
            "Entropy:                                  0.670767\n",
            "Surrogate loss:                           61.978645\n",
            "\n",
            "********** Iteration 17 ************\n",
            "Rollout\n",
            "Made rollout\n",
            "Total number of episodes:                 4983\n",
            "Average sum of rewards per episode:       -113.15981735159818\n",
            "Std of rewards per episode:               39.02887389135015\n",
            "Time elapsed:                             8.03 mins\n",
            "KL between old and new distribution:      0.009984734\n",
            "Entropy:                                  0.63715494\n",
            "Surrogate loss:                           62.98893\n",
            "\n",
            "********** Iteration 18 ************\n",
            "Rollout\n",
            "Made rollout\n",
            "Total number of episodes:                 5424\n",
            "Average sum of rewards per episode:       -112.38095238095238\n",
            "Std of rewards per episode:               40.88826653376313\n",
            "Time elapsed:                             8.44 mins\n",
            "KL between old and new distribution:      0.009977902\n",
            "Entropy:                                  0.59595436\n",
            "Surrogate loss:                           63.268845\n",
            "\n",
            "********** Iteration 19 ************\n",
            "Rollout\n",
            "Made rollout\n",
            "Total number of episodes:                 5899\n",
            "Average sum of rewards per episode:       -104.26526315789474\n",
            "Std of rewards per episode:               26.767481325475792\n",
            "Time elapsed:                             8.85 mins\n",
            "KL between old and new distribution:      0.009977512\n",
            "Entropy:                                  0.5632193\n",
            "Surrogate loss:                           55.356216\n",
            "\n",
            "********** Iteration 20 ************\n",
            "Rollout\n",
            "Made rollout\n",
            "Total number of episodes:                 6364\n",
            "Average sum of rewards per episode:       -106.53118279569892\n",
            "Std of rewards per episode:               37.89072567462098\n",
            "Time elapsed:                             9.26 mins\n",
            "KL between old and new distribution:      0.009983014\n",
            "Entropy:                                  0.5207716\n",
            "Surrogate loss:                           59.71173\n",
            "\n",
            "********** Iteration 21 ************\n",
            "Rollout\n",
            "Made rollout\n",
            "Total number of episodes:                 6845\n",
            "Average sum of rewards per episode:       -102.95634095634095\n",
            "Std of rewards per episode:               36.252523982963005\n",
            "Time elapsed:                             9.67 mins\n",
            "KL between old and new distribution:      0.009997345\n",
            "Entropy:                                  0.52648455\n",
            "Surrogate loss:                           57.472103\n",
            "\n",
            "********** Iteration 22 ************\n",
            "Rollout\n",
            "Made rollout\n",
            "Total number of episodes:                 7320\n",
            "Average sum of rewards per episode:       -104.26526315789474\n",
            "Std of rewards per episode:               25.9922489192089\n",
            "Time elapsed:                             10.10 mins\n",
            "KL between old and new distribution:      0.009985956\n",
            "Entropy:                                  0.45953712\n",
            "Surrogate loss:                           55.11976\n",
            "\n",
            "********** Iteration 23 ************\n",
            "Rollout\n",
            "Made rollout\n",
            "Total number of episodes:                 7818\n",
            "Average sum of rewards per episode:       -99.40361445783132\n",
            "Std of rewards per episode:               27.134273940480885\n",
            "Time elapsed:                             10.52 mins\n",
            "KL between old and new distribution:      0.009972924\n",
            "Entropy:                                  0.46331808\n",
            "Surrogate loss:                           53.1903\n",
            "\n",
            "********** Iteration 24 ************\n",
            "Rollout\n",
            "Made rollout\n",
            "Total number of episodes:                 8304\n",
            "Average sum of rewards per episode:       -101.88683127572017\n",
            "Std of rewards per episode:               38.11264373659916\n",
            "Time elapsed:                             10.95 mins\n",
            "KL between old and new distribution:      0.009987746\n",
            "Entropy:                                  0.46555796\n",
            "Surrogate loss:                           57.7024\n",
            "\n",
            "********** Iteration 25 ************\n",
            "Rollout\n",
            "Made rollout\n",
            "Total number of episodes:                 8807\n",
            "Average sum of rewards per episode:       -98.40556660039762\n",
            "Std of rewards per episode:               24.11961842297301\n",
            "Time elapsed:                             11.36 mins\n",
            "KL between old and new distribution:      0.009993048\n",
            "Entropy:                                  0.45121703\n",
            "Surrogate loss:                           51.9262\n",
            "\n",
            "********** Iteration 26 ************\n",
            "Rollout\n",
            "Made rollout\n",
            "Total number of episodes:                 9286\n",
            "Average sum of rewards per episode:       -103.38830897703549\n",
            "Std of rewards per episode:               44.639305412896704\n",
            "Time elapsed:                             11.80 mins\n",
            "KL between old and new distribution:      0.0099963825\n",
            "Entropy:                                  0.41509837\n",
            "Surrogate loss:                           60.92046\n",
            "\n",
            "********** Iteration 27 ************\n",
            "Rollout\n",
            "Made rollout\n",
            "Total number of episodes:                 9784\n",
            "Average sum of rewards per episode:       -99.40562248995984\n",
            "Std of rewards per episode:               34.11197201942851\n",
            "Time elapsed:                             12.23 mins\n",
            "KL between old and new distribution:      0.009971462\n",
            "Entropy:                                  0.38654554\n",
            "Surrogate loss:                           55.26439\n",
            "\n",
            "********** Iteration 28 ************\n",
            "Rollout\n",
            "Made rollout\n",
            "Total number of episodes:                 10299\n",
            "Average sum of rewards per episode:       -96.09126213592234\n",
            "Std of rewards per episode:               33.37532111563964\n",
            "Time elapsed:                             12.65 mins\n",
            "KL between old and new distribution:      0.009975501\n",
            "Entropy:                                  0.37859625\n",
            "Surrogate loss:                           53.4909\n",
            "\n",
            "********** Iteration 29 ************\n",
            "Rollout\n",
            "Made rollout\n",
            "Total number of episodes:                 10818\n",
            "Average sum of rewards per episode:       -95.34104046242774\n",
            "Std of rewards per episode:               23.924038259135248\n",
            "Time elapsed:                             13.09 mins\n",
            "KL between old and new distribution:      0.009989915\n",
            "Entropy:                                  0.342015\n",
            "Surrogate loss:                           50.471375\n",
            "\n",
            "********** Iteration 30 ************\n",
            "Rollout\n",
            "Made rollout\n",
            "Total number of episodes:                 11338\n",
            "Average sum of rewards per episode:       -95.15576923076924\n",
            "Std of rewards per episode:               27.339474936305916\n",
            "Time elapsed:                             13.51 mins\n",
            "KL between old and new distribution:      0.009979914\n",
            "Entropy:                                  0.32777718\n",
            "Surrogate loss:                           51.25118\n",
            "\n",
            "********** Iteration 31 ************\n",
            "Rollout\n",
            "Made rollout\n",
            "Total number of episodes:                 11867\n",
            "Average sum of rewards per episode:       -93.52362948960302\n",
            "Std of rewards per episode:               36.07673911488245\n",
            "Time elapsed:                             13.94 mins\n",
            "KL between old and new distribution:      0.0099974265\n",
            "Entropy:                                  0.29594177\n",
            "Surrogate loss:                           53.324455\n",
            "\n",
            "********** Iteration 32 ************\n",
            "Rollout\n",
            "Made rollout\n",
            "Total number of episodes:                 12408\n",
            "Average sum of rewards per episode:       -91.42513863216266\n",
            "Std of rewards per episode:               33.45707151295411\n",
            "Time elapsed:                             14.37 mins\n",
            "KL between old and new distribution:      0.009981572\n",
            "Entropy:                                  0.30008236\n",
            "Surrogate loss:                           51.39025\n",
            "\n",
            "********** Iteration 33 ************\n",
            "Rollout\n",
            "Made rollout\n",
            "Total number of episodes:                 12942\n",
            "Average sum of rewards per episode:       -92.64044943820225\n",
            "Std of rewards per episode:               40.92454384518637\n",
            "Time elapsed:                             14.80 mins\n",
            "KL between old and new distribution:      0.009992576\n",
            "Entropy:                                  0.29615843\n",
            "Surrogate loss:                           55.09057\n",
            "\n",
            "********** Iteration 34 ************\n",
            "Rollout\n",
            "Made rollout\n",
            "Total number of episodes:                 13466\n",
            "Average sum of rewards per episode:       -94.42557251908397\n",
            "Std of rewards per episode:               38.535204914493356\n",
            "Time elapsed:                             15.23 mins\n",
            "KL between old and new distribution:      0.009987425\n",
            "Entropy:                                  0.30240923\n",
            "Surrogate loss:                           54.780174\n",
            "\n",
            "********** Iteration 35 ************\n",
            "Rollout\n",
            "Made rollout\n",
            "Total number of episodes:                 14011\n",
            "Average sum of rewards per episode:       -90.74495412844037\n",
            "Std of rewards per episode:               22.721510990582104\n",
            "Time elapsed:                             15.66 mins\n",
            "KL between old and new distribution:      0.009975119\n",
            "Entropy:                                  0.3217523\n",
            "Surrogate loss:                           48.01112\n",
            "\n",
            "********** Iteration 36 ************\n",
            "Rollout\n"
          ]
        }
      ],
      "source": [
        "import time\n",
        "from itertools import count\n",
        "\n",
        "# TRPO hyperparameter; controls how big KL divergence may be between the old and the new policy at every step.\n",
        "max_kl = 0.01\n",
        "numeptotal = 0  # Number of episodes we have completed so far.\n",
        "\n",
        "start_time = time.time()\n",
        "\n",
        "for i in count(1):\n",
        "    print(\"\\n********** Iteration %i ************\" % i)\n",
        "\n",
        "    # Generating paths.\n",
        "    print(\"Rollout\")\n",
        "    paths = rollout(env, agent)\n",
        "    print(\"Made rollout\")\n",
        "\n",
        "    # Updating policy.\n",
        "    observations = np.concatenate([path[\"observations\"] for path in paths])\n",
        "    actions = np.concatenate([path[\"actions\"] for path in paths])\n",
        "    returns = np.concatenate([path[\"cumulative_returns\"] for path in paths])\n",
        "    old_probs = np.concatenate([path[\"policy\"] for path in paths])\n",
        "\n",
        "    loss, kl = update_step(agent, observations, actions, returns, old_probs, max_kl)\n",
        "\n",
        "    # Report current progress\n",
        "    episode_rewards = np.array([path[\"rewards\"].sum() for path in paths])\n",
        "\n",
        "    stats = {}\n",
        "    numeptotal += len(episode_rewards)\n",
        "    stats[\"Total number of episodes\"] = numeptotal\n",
        "    stats[\"Average sum of rewards per episode\"] = episode_rewards.mean()\n",
        "    stats[\"Std of rewards per episode\"] = episode_rewards.std()\n",
        "    stats[\"Time elapsed\"] = \"%.2f mins\" % ((time.time() - start_time)/60.)\n",
        "    stats[\"KL between old and new distribution\"] = kl.data.numpy()\n",
        "    stats[\"Entropy\"] = get_entropy(agent, observations).data.numpy()\n",
        "    stats[\"Surrogate loss\"] = loss.data.numpy()\n",
        "    for k, v in stats.items():\n",
        "        print(k + \": \" + \" \" * (40 - len(k)) + str(v))"
      ]
    },
    {
      "cell_type": "markdown",
      "metadata": {
        "id": "C86qGcilIqxu"
      },
      "source": [
        "# Homework option I: better sampling (10+pts)\n",
        "\n",
        "In this section, you're invited to implement a better rollout strategy called _vine_.\n",
        "\n",
        "![img](https://s17.postimg.cc/i90chxgvj/vine.png)\n",
        "\n",
        "In most gym environments, you can actually backtrack by using states. You can find a wrapper that saves/loads states in [the MCTS seminar](https://github.com/yandexdataschool/Practical_RL/blob/master/week10_planning/seminar_MCTS.ipynb).\n",
        "\n",
        "You can read more about TRPO in the [original paper](https://arxiv.org/abs/1502.05477) in section 5.2.\n",
        "\n",
        "The goal here is to implement such rollout policy (we recommend using tree data structure like in the seminar above).\n",
        "Then you can assign cumulative rewards similar to `get_cumulative_rewards`, but for a tree.\n",
        "\n",
        "__bonus task__ - parallelize samples using multiple cores"
      ]
    },
    {
      "cell_type": "markdown",
      "metadata": {
        "id": "AhejPrCBIqxu"
      },
      "source": [
        "# Homework option II (10+pts)\n",
        "\n",
        "Let's use TRPO to train evil robots! (pick any of two)\n",
        "* [MuJoCo robots](https://gym.openai.com/envs#mujoco)\n",
        "* [Box2d robot](https://gym.openai.com/envs/BipedalWalker-v2)\n",
        "\n",
        "The catch here is that those environments have continuous action spaces.\n",
        "\n",
        "Luckily, TRPO is a policy gradient method, so it's gonna work for any parametric $\\pi_\\theta(a|s)$. We recommend starting with gaussian policy:\n",
        "\n",
        "$$\\pi_\\theta(a|s) = N(\\mu_\\theta(s),\\sigma^2_\\theta(s)) = {1 \\over \\sqrt { 2 \\pi {\\sigma^2}_\\theta(s) } } e^{ (a -\n",
        "\\mu_\\theta(s))^2 \\over 2 {\\sigma^2}_\\theta(s) } $$\n",
        "\n",
        "In the $\\sqrt { 2 \\pi {\\sigma^2}_\\theta(s) }$ clause, $\\pi$ means ~3.1415926, not agent's policy.\n",
        "\n",
        "This essentially means that you will need two output layers:\n",
        "* $\\mu_\\theta(s)$, a dense layer with linear activation\n",
        "* ${\\sigma^2}_\\theta(s)$, a dense layer with activation tf.exp (to make it positive; like rho from bandits)\n",
        "\n",
        "For multidimensional actions, you can use a fully factorized gaussian (basically a vector of gaussians).\n",
        "\n",
        "__Bonus task__: compare the performance of the continuous action space method to action space discretization."
      ]
    }
  ],
  "metadata": {
    "language_info": {
      "name": "python"
    },
    "colab": {
      "name": "seminar_TRPO_pytorch.ipynb",
      "provenance": []
    },
    "kernelspec": {
      "name": "python3",
      "display_name": "Python 3"
    }
  },
  "nbformat": 4,
  "nbformat_minor": 0
}